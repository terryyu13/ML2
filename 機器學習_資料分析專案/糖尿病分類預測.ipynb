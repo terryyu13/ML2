{
 "cells": [
  {
   "cell_type": "markdown",
   "metadata": {},
   "source": [
    "# Logistic Regression  \n",
    "dataset: https://www.kaggle.com/uciml/pima-indians-diabetes-database  \n",
    "model: https://scikit-learn.org/stable/modules/generated/sklearn.linear_model.LogisticRegression.html  "
   ]
  },
  {
   "cell_type": "code",
   "execution_count": 6,
   "metadata": {},
   "outputs": [
    {
     "name": "stdout",
     "output_type": "stream",
     "text": [
      "(768, 4)\n",
      "(768,)\n",
      "0      1\n",
      "1      0\n",
      "2      1\n",
      "3      0\n",
      "4      1\n",
      "      ..\n",
      "763    0\n",
      "764    0\n",
      "765    0\n",
      "766    1\n",
      "767    0\n",
      "Name: label, Length: 768, dtype: int64\n",
      "number of correct sample: 163\n",
      "accuracy: 0.7056277056277056\n"
     ]
    }
   ],
   "source": [
    "import pandas as pd\n",
    "import numpy as np\n",
    "from sklearn import preprocessing, linear_model\n",
    "from sklearn.model_selection import train_test_split\n",
    "from sklearn.linear_model  import LogisticRegression\n",
    "from sklearn.metrics import accuracy_score\n",
    "\n",
    "#1.讀取pima-indians-diabetes.csv資料\n",
    "pima = pd.read_csv(\"./pima-indians-diabetes.csv\")\n",
    "#2.用'pregnant','insulin','bmi', 'age' 四個變數預測'label'(是否發病)\n",
    "X = pima[['pregnant','insulin','bmi', 'age']]\n",
    "y = pima['label']\n",
    "print(X.shape)\n",
    "print(y.shape)\n",
    "print(y)\n",
    "#3.使用train_test_split將資料 7:3做分割，其中random_state=1\n",
    "X_train,X_test,y_train,y_test=train_test_split(X,y,test_size=0.3,random_state=1)\n",
    "\n",
    "#4.對訓練資料及測試資料做標準化\n",
    "scaler = preprocessing.StandardScaler().fit(X_train)\n",
    "X_train = scaler.transform(X_train)\n",
    "X_test_nor = scaler.transform(X_test)\n",
    "#5.建立LogisticRegression並訓練\n",
    "model=LogisticRegression()\n",
    "model.fit(X_train,y_train)\n",
    "y_pred = model.predict(X_test_nor)\n",
    "num_correct_samples = accuracy_score(y_test, y_pred, normalize=False)\n",
    "#6.計算準確率\n",
    "accuracy = accuracy_score(y_test, y_pred)\n",
    "print('number of correct sample: {}'.format(num_correct_samples))\n",
    "print('accuracy: {}'.format(accuracy))"
   ]
  },
  {
   "cell_type": "code",
   "execution_count": null,
   "metadata": {
    "collapsed": true
   },
   "outputs": [],
   "source": []
  }
 ],
 "metadata": {
  "kernelspec": {
   "display_name": "Python 3 (ipykernel)",
   "language": "python",
   "name": "python3"
  },
  "language_info": {
   "codemirror_mode": {
    "name": "ipython",
    "version": 3
   },
   "file_extension": ".py",
   "mimetype": "text/x-python",
   "name": "python",
   "nbconvert_exporter": "python",
   "pygments_lexer": "ipython3",
   "version": "3.9.13"
  }
 },
 "nbformat": 4,
 "nbformat_minor": 2
}
